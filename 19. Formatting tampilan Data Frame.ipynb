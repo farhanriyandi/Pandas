{
 "cells": [
  {
   "cell_type": "code",
   "execution_count": 6,
   "id": "cbf7e29a",
   "metadata": {},
   "outputs": [],
   "source": [
    "import pandas as pd\n",
    "import numpy as np"
   ]
  },
  {
   "cell_type": "markdown",
   "id": "189c4130",
   "metadata": {},
   "source": [
    "# Persiapan Data Frame"
   ]
  },
  {
   "cell_type": "code",
   "execution_count": 7,
   "id": "0277cfff",
   "metadata": {},
   "outputs": [
    {
     "data": {
      "text/html": [
       "<div>\n",
       "<style scoped>\n",
       "    .dataframe tbody tr th:only-of-type {\n",
       "        vertical-align: middle;\n",
       "    }\n",
       "\n",
       "    .dataframe tbody tr th {\n",
       "        vertical-align: top;\n",
       "    }\n",
       "\n",
       "    .dataframe thead th {\n",
       "        text-align: right;\n",
       "    }\n",
       "</style>\n",
       "<table border=\"1\" class=\"dataframe\">\n",
       "  <thead>\n",
       "    <tr style=\"text-align: right;\">\n",
       "      <th></th>\n",
       "      <th>omset</th>\n",
       "      <th>operasional</th>\n",
       "    </tr>\n",
       "  </thead>\n",
       "  <tbody>\n",
       "    <tr>\n",
       "      <th>0</th>\n",
       "      <td>9</td>\n",
       "      <td>6</td>\n",
       "    </tr>\n",
       "    <tr>\n",
       "      <th>1</th>\n",
       "      <td>2</td>\n",
       "      <td>17</td>\n",
       "    </tr>\n",
       "    <tr>\n",
       "      <th>2</th>\n",
       "      <td>6</td>\n",
       "      <td>11</td>\n",
       "    </tr>\n",
       "    <tr>\n",
       "      <th>3</th>\n",
       "      <td>8</td>\n",
       "      <td>4</td>\n",
       "    </tr>\n",
       "    <tr>\n",
       "      <th>4</th>\n",
       "      <td>12</td>\n",
       "      <td>7</td>\n",
       "    </tr>\n",
       "  </tbody>\n",
       "</table>\n",
       "</div>"
      ],
      "text/plain": [
       "   omset  operasional\n",
       "0      9            6\n",
       "1      2           17\n",
       "2      6           11\n",
       "3      8            4\n",
       "4     12            7"
      ]
     },
     "execution_count": 7,
     "metadata": {},
     "output_type": "execute_result"
    }
   ],
   "source": [
    "n_rows = 5\n",
    "n_cols = 2\n",
    "cols = ['omset', 'operasional']\n",
    "\n",
    "df = pd.DataFrame(np.random.randint(1, 20, size=(n_rows, n_cols)),\n",
    "                 columns = cols)\n",
    "df"
   ]
  },
  {
   "cell_type": "code",
   "execution_count": 8,
   "id": "304f18c4",
   "metadata": {},
   "outputs": [
    {
     "data": {
      "text/html": [
       "<div>\n",
       "<style scoped>\n",
       "    .dataframe tbody tr th:only-of-type {\n",
       "        vertical-align: middle;\n",
       "    }\n",
       "\n",
       "    .dataframe tbody tr th {\n",
       "        vertical-align: top;\n",
       "    }\n",
       "\n",
       "    .dataframe thead th {\n",
       "        text-align: right;\n",
       "    }\n",
       "</style>\n",
       "<table border=\"1\" class=\"dataframe\">\n",
       "  <thead>\n",
       "    <tr style=\"text-align: right;\">\n",
       "      <th></th>\n",
       "      <th>omset</th>\n",
       "      <th>operasional</th>\n",
       "    </tr>\n",
       "  </thead>\n",
       "  <tbody>\n",
       "    <tr>\n",
       "      <th>0</th>\n",
       "      <td>900000</td>\n",
       "      <td>60000</td>\n",
       "    </tr>\n",
       "    <tr>\n",
       "      <th>1</th>\n",
       "      <td>200000</td>\n",
       "      <td>170000</td>\n",
       "    </tr>\n",
       "    <tr>\n",
       "      <th>2</th>\n",
       "      <td>600000</td>\n",
       "      <td>110000</td>\n",
       "    </tr>\n",
       "    <tr>\n",
       "      <th>3</th>\n",
       "      <td>800000</td>\n",
       "      <td>40000</td>\n",
       "    </tr>\n",
       "    <tr>\n",
       "      <th>4</th>\n",
       "      <td>1200000</td>\n",
       "      <td>70000</td>\n",
       "    </tr>\n",
       "  </tbody>\n",
       "</table>\n",
       "</div>"
      ],
      "text/plain": [
       "     omset  operasional\n",
       "0   900000        60000\n",
       "1   200000       170000\n",
       "2   600000       110000\n",
       "3   800000        40000\n",
       "4  1200000        70000"
      ]
     },
     "execution_count": 8,
     "metadata": {},
     "output_type": "execute_result"
    }
   ],
   "source": [
    "df['omset'] = df['omset'] * 100_000\n",
    "df['operasional'] = df['operasional'] * 10_000\n",
    "df\n"
   ]
  },
  {
   "cell_type": "code",
   "execution_count": 9,
   "id": "252f5625",
   "metadata": {},
   "outputs": [
    {
     "name": "stderr",
     "output_type": "stream",
     "text": [
      "F:\\Anaconda\\lib\\site-packages\\pandas\\util\\__init__.py:15: FutureWarning: pandas.util.testing is deprecated. Use the functions in the public API at pandas.testing instead.\n",
      "  import pandas.util.testing\n"
     ]
    },
    {
     "data": {
      "text/html": [
       "<div>\n",
       "<style scoped>\n",
       "    .dataframe tbody tr th:only-of-type {\n",
       "        vertical-align: middle;\n",
       "    }\n",
       "\n",
       "    .dataframe tbody tr th {\n",
       "        vertical-align: top;\n",
       "    }\n",
       "\n",
       "    .dataframe thead th {\n",
       "        text-align: right;\n",
       "    }\n",
       "</style>\n",
       "<table border=\"1\" class=\"dataframe\">\n",
       "  <thead>\n",
       "    <tr style=\"text-align: right;\">\n",
       "      <th></th>\n",
       "      <th>tanggal</th>\n",
       "      <th>omset</th>\n",
       "      <th>operasional</th>\n",
       "    </tr>\n",
       "  </thead>\n",
       "  <tbody>\n",
       "    <tr>\n",
       "      <th>0</th>\n",
       "      <td>2000-01-01</td>\n",
       "      <td>900000</td>\n",
       "      <td>60000</td>\n",
       "    </tr>\n",
       "    <tr>\n",
       "      <th>1</th>\n",
       "      <td>2000-01-02</td>\n",
       "      <td>200000</td>\n",
       "      <td>170000</td>\n",
       "    </tr>\n",
       "    <tr>\n",
       "      <th>2</th>\n",
       "      <td>2000-01-03</td>\n",
       "      <td>600000</td>\n",
       "      <td>110000</td>\n",
       "    </tr>\n",
       "    <tr>\n",
       "      <th>3</th>\n",
       "      <td>2000-01-04</td>\n",
       "      <td>800000</td>\n",
       "      <td>40000</td>\n",
       "    </tr>\n",
       "    <tr>\n",
       "      <th>4</th>\n",
       "      <td>2000-01-05</td>\n",
       "      <td>1200000</td>\n",
       "      <td>70000</td>\n",
       "    </tr>\n",
       "  </tbody>\n",
       "</table>\n",
       "</div>"
      ],
      "text/plain": [
       "     tanggal    omset  operasional\n",
       "0 2000-01-01   900000        60000\n",
       "1 2000-01-02   200000       170000\n",
       "2 2000-01-03   600000       110000\n",
       "3 2000-01-04   800000        40000\n",
       "4 2000-01-05  1200000        70000"
      ]
     },
     "execution_count": 9,
     "metadata": {},
     "output_type": "execute_result"
    }
   ],
   "source": [
    "df.index = pd.util.testing.makeDateIndex(n_rows, freq = 'D')\n",
    "df = df.reset_index()\n",
    "df = df.rename(columns={'index':'tanggal'})\n",
    "df"
   ]
  },
  {
   "cell_type": "markdown",
   "id": "a44f579b",
   "metadata": {},
   "source": [
    "# Melakukan formatting tampilan Data Frame"
   ]
  },
  {
   "cell_type": "code",
   "execution_count": 10,
   "id": "0a48240d",
   "metadata": {},
   "outputs": [
    {
     "data": {
      "text/html": [
       "<style type=\"text/css\">\n",
       "</style>\n",
       "<table id=\"T_9a8e5_\">\n",
       "  <thead>\n",
       "    <tr>\n",
       "      <th class=\"blank level0\" >&nbsp;</th>\n",
       "      <th class=\"col_heading level0 col0\" >tanggal</th>\n",
       "      <th class=\"col_heading level0 col1\" >omset</th>\n",
       "      <th class=\"col_heading level0 col2\" >operasional</th>\n",
       "    </tr>\n",
       "  </thead>\n",
       "  <tbody>\n",
       "    <tr>\n",
       "      <th id=\"T_9a8e5_level0_row0\" class=\"row_heading level0 row0\" >0</th>\n",
       "      <td id=\"T_9a8e5_row0_col0\" class=\"data row0 col0\" >01/01/00</td>\n",
       "      <td id=\"T_9a8e5_row0_col1\" class=\"data row0 col1\" >Rp 900000.00</td>\n",
       "      <td id=\"T_9a8e5_row0_col2\" class=\"data row0 col2\" >Rp 60000.00</td>\n",
       "    </tr>\n",
       "    <tr>\n",
       "      <th id=\"T_9a8e5_level0_row1\" class=\"row_heading level0 row1\" >1</th>\n",
       "      <td id=\"T_9a8e5_row1_col0\" class=\"data row1 col0\" >02/01/00</td>\n",
       "      <td id=\"T_9a8e5_row1_col1\" class=\"data row1 col1\" >Rp 200000.00</td>\n",
       "      <td id=\"T_9a8e5_row1_col2\" class=\"data row1 col2\" >Rp 170000.00</td>\n",
       "    </tr>\n",
       "    <tr>\n",
       "      <th id=\"T_9a8e5_level0_row2\" class=\"row_heading level0 row2\" >2</th>\n",
       "      <td id=\"T_9a8e5_row2_col0\" class=\"data row2 col0\" >03/01/00</td>\n",
       "      <td id=\"T_9a8e5_row2_col1\" class=\"data row2 col1\" >Rp 600000.00</td>\n",
       "      <td id=\"T_9a8e5_row2_col2\" class=\"data row2 col2\" >Rp 110000.00</td>\n",
       "    </tr>\n",
       "    <tr>\n",
       "      <th id=\"T_9a8e5_level0_row3\" class=\"row_heading level0 row3\" >3</th>\n",
       "      <td id=\"T_9a8e5_row3_col0\" class=\"data row3 col0\" >04/01/00</td>\n",
       "      <td id=\"T_9a8e5_row3_col1\" class=\"data row3 col1\" >Rp 800000.00</td>\n",
       "      <td id=\"T_9a8e5_row3_col2\" class=\"data row3 col2\" >Rp 40000.00</td>\n",
       "    </tr>\n",
       "    <tr>\n",
       "      <th id=\"T_9a8e5_level0_row4\" class=\"row_heading level0 row4\" >4</th>\n",
       "      <td id=\"T_9a8e5_row4_col0\" class=\"data row4 col0\" >05/01/00</td>\n",
       "      <td id=\"T_9a8e5_row4_col1\" class=\"data row4 col1\" >Rp 1200000.00</td>\n",
       "      <td id=\"T_9a8e5_row4_col2\" class=\"data row4 col2\" >Rp 70000.00</td>\n",
       "    </tr>\n",
       "  </tbody>\n",
       "</table>\n"
      ],
      "text/plain": [
       "<pandas.io.formats.style.Styler at 0x1b72433ca30>"
      ]
     },
     "execution_count": 10,
     "metadata": {},
     "output_type": "execute_result"
    }
   ],
   "source": [
    "formatku = {'tanggal': '{:%d/%m/%y}',\n",
    "           'operasional':'Rp {:.2f}',\n",
    "           'omset': 'Rp {:.2f}'}\n",
    "\n",
    "laporan = df.style.format(formatku)\n",
    "laporan"
   ]
  },
  {
   "cell_type": "code",
   "execution_count": 11,
   "id": "98461657",
   "metadata": {},
   "outputs": [
    {
     "data": {
      "text/plain": [
       "pandas.io.formats.style.Styler"
      ]
     },
     "execution_count": 11,
     "metadata": {},
     "output_type": "execute_result"
    }
   ],
   "source": [
    "type(laporan)"
   ]
  },
  {
   "cell_type": "code",
   "execution_count": 14,
   "id": "d1c3e87a",
   "metadata": {},
   "outputs": [
    {
     "data": {
      "text/html": [
       "<style type=\"text/css\">\n",
       "</style>\n",
       "<table id=\"T_9a8e5_\">\n",
       "  <thead>\n",
       "    <tr>\n",
       "      <th class=\"col_heading level0 col0\" >tanggal</th>\n",
       "      <th class=\"col_heading level0 col1\" >omset</th>\n",
       "      <th class=\"col_heading level0 col2\" >operasional</th>\n",
       "    </tr>\n",
       "  </thead>\n",
       "  <tbody>\n",
       "    <tr>\n",
       "      <td id=\"T_9a8e5_row0_col0\" class=\"data row0 col0\" >01/01/00</td>\n",
       "      <td id=\"T_9a8e5_row0_col1\" class=\"data row0 col1\" >Rp 900000.00</td>\n",
       "      <td id=\"T_9a8e5_row0_col2\" class=\"data row0 col2\" >Rp 60000.00</td>\n",
       "    </tr>\n",
       "    <tr>\n",
       "      <td id=\"T_9a8e5_row1_col0\" class=\"data row1 col0\" >02/01/00</td>\n",
       "      <td id=\"T_9a8e5_row1_col1\" class=\"data row1 col1\" >Rp 200000.00</td>\n",
       "      <td id=\"T_9a8e5_row1_col2\" class=\"data row1 col2\" >Rp 170000.00</td>\n",
       "    </tr>\n",
       "    <tr>\n",
       "      <td id=\"T_9a8e5_row2_col0\" class=\"data row2 col0\" >03/01/00</td>\n",
       "      <td id=\"T_9a8e5_row2_col1\" class=\"data row2 col1\" >Rp 600000.00</td>\n",
       "      <td id=\"T_9a8e5_row2_col2\" class=\"data row2 col2\" >Rp 110000.00</td>\n",
       "    </tr>\n",
       "    <tr>\n",
       "      <td id=\"T_9a8e5_row3_col0\" class=\"data row3 col0\" >04/01/00</td>\n",
       "      <td id=\"T_9a8e5_row3_col1\" class=\"data row3 col1\" >Rp 800000.00</td>\n",
       "      <td id=\"T_9a8e5_row3_col2\" class=\"data row3 col2\" >Rp 40000.00</td>\n",
       "    </tr>\n",
       "    <tr>\n",
       "      <td id=\"T_9a8e5_row4_col0\" class=\"data row4 col0\" >05/01/00</td>\n",
       "      <td id=\"T_9a8e5_row4_col1\" class=\"data row4 col1\" >Rp 1200000.00</td>\n",
       "      <td id=\"T_9a8e5_row4_col2\" class=\"data row4 col2\" >Rp 70000.00</td>\n",
       "    </tr>\n",
       "  </tbody>\n",
       "</table>\n"
      ],
      "text/plain": [
       "<pandas.io.formats.style.Styler at 0x1b72433ca30>"
      ]
     },
     "execution_count": 14,
     "metadata": {},
     "output_type": "execute_result"
    }
   ],
   "source": [
    "laporan.hide_index()"
   ]
  },
  {
   "cell_type": "code",
   "execution_count": 15,
   "id": "a95b204d",
   "metadata": {},
   "outputs": [
    {
     "data": {
      "text/html": [
       "<style type=\"text/css\">\n",
       "</style>\n",
       "<table id=\"T_9a8e5_\">\n",
       "  <caption>Data Omset dan Operasional</caption>\n",
       "  <thead>\n",
       "    <tr>\n",
       "      <th class=\"col_heading level0 col0\" >tanggal</th>\n",
       "      <th class=\"col_heading level0 col1\" >omset</th>\n",
       "      <th class=\"col_heading level0 col2\" >operasional</th>\n",
       "    </tr>\n",
       "  </thead>\n",
       "  <tbody>\n",
       "    <tr>\n",
       "      <td id=\"T_9a8e5_row0_col0\" class=\"data row0 col0\" >01/01/00</td>\n",
       "      <td id=\"T_9a8e5_row0_col1\" class=\"data row0 col1\" >Rp 900000.00</td>\n",
       "      <td id=\"T_9a8e5_row0_col2\" class=\"data row0 col2\" >Rp 60000.00</td>\n",
       "    </tr>\n",
       "    <tr>\n",
       "      <td id=\"T_9a8e5_row1_col0\" class=\"data row1 col0\" >02/01/00</td>\n",
       "      <td id=\"T_9a8e5_row1_col1\" class=\"data row1 col1\" >Rp 200000.00</td>\n",
       "      <td id=\"T_9a8e5_row1_col2\" class=\"data row1 col2\" >Rp 170000.00</td>\n",
       "    </tr>\n",
       "    <tr>\n",
       "      <td id=\"T_9a8e5_row2_col0\" class=\"data row2 col0\" >03/01/00</td>\n",
       "      <td id=\"T_9a8e5_row2_col1\" class=\"data row2 col1\" >Rp 600000.00</td>\n",
       "      <td id=\"T_9a8e5_row2_col2\" class=\"data row2 col2\" >Rp 110000.00</td>\n",
       "    </tr>\n",
       "    <tr>\n",
       "      <td id=\"T_9a8e5_row3_col0\" class=\"data row3 col0\" >04/01/00</td>\n",
       "      <td id=\"T_9a8e5_row3_col1\" class=\"data row3 col1\" >Rp 800000.00</td>\n",
       "      <td id=\"T_9a8e5_row3_col2\" class=\"data row3 col2\" >Rp 40000.00</td>\n",
       "    </tr>\n",
       "    <tr>\n",
       "      <td id=\"T_9a8e5_row4_col0\" class=\"data row4 col0\" >05/01/00</td>\n",
       "      <td id=\"T_9a8e5_row4_col1\" class=\"data row4 col1\" >Rp 1200000.00</td>\n",
       "      <td id=\"T_9a8e5_row4_col2\" class=\"data row4 col2\" >Rp 70000.00</td>\n",
       "    </tr>\n",
       "  </tbody>\n",
       "</table>\n"
      ],
      "text/plain": [
       "<pandas.io.formats.style.Styler at 0x1b72433ca30>"
      ]
     },
     "execution_count": 15,
     "metadata": {},
     "output_type": "execute_result"
    }
   ],
   "source": [
    "laporan.set_caption('Data Omset dan Operasional')"
   ]
  },
  {
   "cell_type": "code",
   "execution_count": 16,
   "id": "37f4715e",
   "metadata": {},
   "outputs": [
    {
     "data": {
      "text/html": [
       "<style type=\"text/css\">\n",
       "#T_9a8e5_row1_col1 {\n",
       "  background-color: pink;\n",
       "}\n",
       "#T_9a8e5_row1_col2 {\n",
       "  background-color: grey;\n",
       "}\n",
       "#T_9a8e5_row3_col2 {\n",
       "  background-color: lightblue;\n",
       "}\n",
       "#T_9a8e5_row4_col1 {\n",
       "  background-color: lightgreen;\n",
       "}\n",
       "</style>\n",
       "<table id=\"T_9a8e5_\">\n",
       "  <caption>Data Omset dan Operasional</caption>\n",
       "  <thead>\n",
       "    <tr>\n",
       "      <th class=\"col_heading level0 col0\" >tanggal</th>\n",
       "      <th class=\"col_heading level0 col1\" >omset</th>\n",
       "      <th class=\"col_heading level0 col2\" >operasional</th>\n",
       "    </tr>\n",
       "  </thead>\n",
       "  <tbody>\n",
       "    <tr>\n",
       "      <td id=\"T_9a8e5_row0_col0\" class=\"data row0 col0\" >01/01/00</td>\n",
       "      <td id=\"T_9a8e5_row0_col1\" class=\"data row0 col1\" >Rp 900000.00</td>\n",
       "      <td id=\"T_9a8e5_row0_col2\" class=\"data row0 col2\" >Rp 60000.00</td>\n",
       "    </tr>\n",
       "    <tr>\n",
       "      <td id=\"T_9a8e5_row1_col0\" class=\"data row1 col0\" >02/01/00</td>\n",
       "      <td id=\"T_9a8e5_row1_col1\" class=\"data row1 col1\" >Rp 200000.00</td>\n",
       "      <td id=\"T_9a8e5_row1_col2\" class=\"data row1 col2\" >Rp 170000.00</td>\n",
       "    </tr>\n",
       "    <tr>\n",
       "      <td id=\"T_9a8e5_row2_col0\" class=\"data row2 col0\" >03/01/00</td>\n",
       "      <td id=\"T_9a8e5_row2_col1\" class=\"data row2 col1\" >Rp 600000.00</td>\n",
       "      <td id=\"T_9a8e5_row2_col2\" class=\"data row2 col2\" >Rp 110000.00</td>\n",
       "    </tr>\n",
       "    <tr>\n",
       "      <td id=\"T_9a8e5_row3_col0\" class=\"data row3 col0\" >04/01/00</td>\n",
       "      <td id=\"T_9a8e5_row3_col1\" class=\"data row3 col1\" >Rp 800000.00</td>\n",
       "      <td id=\"T_9a8e5_row3_col2\" class=\"data row3 col2\" >Rp 40000.00</td>\n",
       "    </tr>\n",
       "    <tr>\n",
       "      <td id=\"T_9a8e5_row4_col0\" class=\"data row4 col0\" >05/01/00</td>\n",
       "      <td id=\"T_9a8e5_row4_col1\" class=\"data row4 col1\" >Rp 1200000.00</td>\n",
       "      <td id=\"T_9a8e5_row4_col2\" class=\"data row4 col2\" >Rp 70000.00</td>\n",
       "    </tr>\n",
       "  </tbody>\n",
       "</table>\n"
      ],
      "text/plain": [
       "<pandas.io.formats.style.Styler at 0x1b72433ca30>"
      ]
     },
     "execution_count": 16,
     "metadata": {},
     "output_type": "execute_result"
    }
   ],
   "source": [
    "laporan.highlight_min('omset', color='pink')\n",
    "laporan.highlight_max('omset', color='lightgreen')\n",
    "\n",
    "laporan.highlight_min('operasional', color='lightblue')\n",
    "laporan.highlight_max('operasional', color='grey')"
   ]
  }
 ],
 "metadata": {
  "kernelspec": {
   "display_name": "Python 3 (ipykernel)",
   "language": "python",
   "name": "python3"
  },
  "language_info": {
   "codemirror_mode": {
    "name": "ipython",
    "version": 3
   },
   "file_extension": ".py",
   "mimetype": "text/x-python",
   "name": "python",
   "nbconvert_exporter": "python",
   "pygments_lexer": "ipython3",
   "version": "3.8.12"
  }
 },
 "nbformat": 4,
 "nbformat_minor": 5
}
